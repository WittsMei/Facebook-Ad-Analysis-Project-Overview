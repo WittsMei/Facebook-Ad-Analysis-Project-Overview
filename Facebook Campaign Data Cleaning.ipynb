{
 "cells": [
  {
   "cell_type": "code",
   "execution_count": 1,
   "id": "de16cb10",
   "metadata": {},
   "outputs": [],
   "source": [
    "import numpy as np \n",
    "import pandas as pd "
   ]
  },
  {
   "cell_type": "code",
   "execution_count": 2,
   "id": "c2c9690d",
   "metadata": {},
   "outputs": [
    {
     "data": {
      "text/html": [
       "<div>\n",
       "<style scoped>\n",
       "    .dataframe tbody tr th:only-of-type {\n",
       "        vertical-align: middle;\n",
       "    }\n",
       "\n",
       "    .dataframe tbody tr th {\n",
       "        vertical-align: top;\n",
       "    }\n",
       "\n",
       "    .dataframe thead th {\n",
       "        text-align: right;\n",
       "    }\n",
       "</style>\n",
       "<table border=\"1\" class=\"dataframe\">\n",
       "  <thead>\n",
       "    <tr style=\"text-align: right;\">\n",
       "      <th></th>\n",
       "      <th>ad_id</th>\n",
       "      <th>xyz_campaign_id</th>\n",
       "      <th>fb_campaign_id</th>\n",
       "      <th>age</th>\n",
       "      <th>gender</th>\n",
       "      <th>interest</th>\n",
       "      <th>Impressions</th>\n",
       "      <th>Clicks</th>\n",
       "      <th>Spent</th>\n",
       "      <th>Total_Conversion</th>\n",
       "      <th>Approved_Conversion</th>\n",
       "    </tr>\n",
       "  </thead>\n",
       "  <tbody>\n",
       "    <tr>\n",
       "      <th>0</th>\n",
       "      <td>708746</td>\n",
       "      <td>916</td>\n",
       "      <td>103916</td>\n",
       "      <td>30-34</td>\n",
       "      <td>M</td>\n",
       "      <td>15</td>\n",
       "      <td>7350</td>\n",
       "      <td>1</td>\n",
       "      <td>1.43</td>\n",
       "      <td>2</td>\n",
       "      <td>1</td>\n",
       "    </tr>\n",
       "    <tr>\n",
       "      <th>1</th>\n",
       "      <td>708749</td>\n",
       "      <td>916</td>\n",
       "      <td>103917</td>\n",
       "      <td>30-34</td>\n",
       "      <td>M</td>\n",
       "      <td>16</td>\n",
       "      <td>17861</td>\n",
       "      <td>2</td>\n",
       "      <td>1.82</td>\n",
       "      <td>2</td>\n",
       "      <td>0</td>\n",
       "    </tr>\n",
       "    <tr>\n",
       "      <th>2</th>\n",
       "      <td>708771</td>\n",
       "      <td>916</td>\n",
       "      <td>103920</td>\n",
       "      <td>30-34</td>\n",
       "      <td>M</td>\n",
       "      <td>20</td>\n",
       "      <td>693</td>\n",
       "      <td>0</td>\n",
       "      <td>0.00</td>\n",
       "      <td>1</td>\n",
       "      <td>0</td>\n",
       "    </tr>\n",
       "    <tr>\n",
       "      <th>3</th>\n",
       "      <td>708815</td>\n",
       "      <td>916</td>\n",
       "      <td>103928</td>\n",
       "      <td>30-34</td>\n",
       "      <td>M</td>\n",
       "      <td>28</td>\n",
       "      <td>4259</td>\n",
       "      <td>1</td>\n",
       "      <td>1.25</td>\n",
       "      <td>1</td>\n",
       "      <td>0</td>\n",
       "    </tr>\n",
       "    <tr>\n",
       "      <th>4</th>\n",
       "      <td>708818</td>\n",
       "      <td>916</td>\n",
       "      <td>103928</td>\n",
       "      <td>30-34</td>\n",
       "      <td>M</td>\n",
       "      <td>28</td>\n",
       "      <td>4133</td>\n",
       "      <td>1</td>\n",
       "      <td>1.29</td>\n",
       "      <td>1</td>\n",
       "      <td>1</td>\n",
       "    </tr>\n",
       "  </tbody>\n",
       "</table>\n",
       "</div>"
      ],
      "text/plain": [
       "    ad_id  xyz_campaign_id  fb_campaign_id    age gender  interest  \\\n",
       "0  708746              916          103916  30-34      M        15   \n",
       "1  708749              916          103917  30-34      M        16   \n",
       "2  708771              916          103920  30-34      M        20   \n",
       "3  708815              916          103928  30-34      M        28   \n",
       "4  708818              916          103928  30-34      M        28   \n",
       "\n",
       "   Impressions  Clicks  Spent  Total_Conversion  Approved_Conversion  \n",
       "0         7350       1   1.43                 2                    1  \n",
       "1        17861       2   1.82                 2                    0  \n",
       "2          693       0   0.00                 1                    0  \n",
       "3         4259       1   1.25                 1                    0  \n",
       "4         4133       1   1.29                 1                    1  "
      ]
     },
     "execution_count": 2,
     "metadata": {},
     "output_type": "execute_result"
    }
   ],
   "source": [
    "df = pd.read_csv('KAG_conversion_data.csv')\n",
    "df.head()"
   ]
  },
  {
   "cell_type": "code",
   "execution_count": 3,
   "id": "a43c4c2b",
   "metadata": {},
   "outputs": [
    {
     "name": "stdout",
     "output_type": "stream",
     "text": [
      "There are 1143 rows and 11 columns\n"
     ]
    }
   ],
   "source": [
    "print(f'There are {df.shape[0]} rows and {df.shape[1]} columns')"
   ]
  },
  {
   "cell_type": "markdown",
   "id": "69878dcc",
   "metadata": {},
   "source": [
    "<br>\n",
    "\n",
    "# Data Cleaning "
   ]
  },
  {
   "cell_type": "markdown",
   "id": "7d6ba207",
   "metadata": {},
   "source": [
    "<br>\n",
    "Looking for any missing values first."
   ]
  },
  {
   "cell_type": "code",
   "execution_count": 4,
   "id": "c28effdb",
   "metadata": {},
   "outputs": [
    {
     "name": "stdout",
     "output_type": "stream",
     "text": [
      "<class 'pandas.core.frame.DataFrame'>\n",
      "RangeIndex: 1143 entries, 0 to 1142\n",
      "Data columns (total 11 columns):\n",
      " #   Column               Non-Null Count  Dtype  \n",
      "---  ------               --------------  -----  \n",
      " 0   ad_id                1143 non-null   int64  \n",
      " 1   xyz_campaign_id      1143 non-null   int64  \n",
      " 2   fb_campaign_id       1143 non-null   int64  \n",
      " 3   age                  1143 non-null   object \n",
      " 4   gender               1143 non-null   object \n",
      " 5   interest             1143 non-null   int64  \n",
      " 6   Impressions          1143 non-null   int64  \n",
      " 7   Clicks               1143 non-null   int64  \n",
      " 8   Spent                1143 non-null   float64\n",
      " 9   Total_Conversion     1143 non-null   int64  \n",
      " 10  Approved_Conversion  1143 non-null   int64  \n",
      "dtypes: float64(1), int64(8), object(2)\n",
      "memory usage: 98.4+ KB\n"
     ]
    }
   ],
   "source": [
    "df.info()"
   ]
  },
  {
   "cell_type": "markdown",
   "id": "9c1270e4",
   "metadata": {},
   "source": [
    "<br>\n",
    "\n",
    "There are no null values. Let's procceed with checking if there are any error in the categorical values. We only have age and gender as categoical values. \n",
    "\n",
    "\n",
    "\n",
    "\n",
    "\n",
    "\n"
   ]
  },
  {
   "cell_type": "code",
   "execution_count": 5,
   "id": "9b2bf38a",
   "metadata": {},
   "outputs": [
    {
     "data": {
      "text/plain": [
       "30-34    426\n",
       "45-49    259\n",
       "35-39    248\n",
       "40-44    210\n",
       "Name: age, dtype: int64"
      ]
     },
     "execution_count": 5,
     "metadata": {},
     "output_type": "execute_result"
    }
   ],
   "source": [
    "df.age.value_counts()"
   ]
  },
  {
   "cell_type": "code",
   "execution_count": 6,
   "id": "4fb2cd11",
   "metadata": {
    "scrolled": true
   },
   "outputs": [
    {
     "data": {
      "text/plain": [
       "M    592\n",
       "F    551\n",
       "Name: gender, dtype: int64"
      ]
     },
     "execution_count": 6,
     "metadata": {},
     "output_type": "execute_result"
    }
   ],
   "source": [
    "df.gender.value_counts()"
   ]
  },
  {
   "cell_type": "code",
   "execution_count": 7,
   "id": "a189ffb4",
   "metadata": {},
   "outputs": [],
   "source": [
    "df['gender'].replace(\n",
    "    {\n",
    "      'M': 'Male',\n",
    "      'F': 'Female',\n",
    "    }, \n",
    "    inplace=True\n",
    ")"
   ]
  },
  {
   "cell_type": "markdown",
   "id": "bb7fbf91",
   "metadata": {},
   "source": [
    "<br>\n",
    "\n",
    "\n",
    "Let's double check the values in gender if they're successfully replaced:"
   ]
  },
  {
   "cell_type": "code",
   "execution_count": 8,
   "id": "bcd72a32",
   "metadata": {},
   "outputs": [
    {
     "data": {
      "text/plain": [
       "Male      592\n",
       "Female    551\n",
       "Name: gender, dtype: int64"
      ]
     },
     "execution_count": 8,
     "metadata": {},
     "output_type": "execute_result"
    }
   ],
   "source": [
    "df.gender.value_counts()"
   ]
  },
  {
   "cell_type": "code",
   "execution_count": 9,
   "id": "98ddefd7",
   "metadata": {},
   "outputs": [
    {
     "data": {
      "text/html": [
       "<div>\n",
       "<style scoped>\n",
       "    .dataframe tbody tr th:only-of-type {\n",
       "        vertical-align: middle;\n",
       "    }\n",
       "\n",
       "    .dataframe tbody tr th {\n",
       "        vertical-align: top;\n",
       "    }\n",
       "\n",
       "    .dataframe thead th {\n",
       "        text-align: right;\n",
       "    }\n",
       "</style>\n",
       "<table border=\"1\" class=\"dataframe\">\n",
       "  <thead>\n",
       "    <tr style=\"text-align: right;\">\n",
       "      <th></th>\n",
       "      <th>count</th>\n",
       "      <th>mean</th>\n",
       "      <th>std</th>\n",
       "      <th>min</th>\n",
       "      <th>25%</th>\n",
       "      <th>50%</th>\n",
       "      <th>75%</th>\n",
       "      <th>max</th>\n",
       "    </tr>\n",
       "  </thead>\n",
       "  <tbody>\n",
       "    <tr>\n",
       "      <th>ad_id</th>\n",
       "      <td>1143.0</td>\n",
       "      <td>987261.130359</td>\n",
       "      <td>193992.814738</td>\n",
       "      <td>708746.0</td>\n",
       "      <td>777632.50</td>\n",
       "      <td>1121185.00</td>\n",
       "      <td>1121804.500</td>\n",
       "      <td>1.314415e+06</td>\n",
       "    </tr>\n",
       "    <tr>\n",
       "      <th>xyz_campaign_id</th>\n",
       "      <td>1143.0</td>\n",
       "      <td>1067.382327</td>\n",
       "      <td>121.629393</td>\n",
       "      <td>916.0</td>\n",
       "      <td>936.00</td>\n",
       "      <td>1178.00</td>\n",
       "      <td>1178.000</td>\n",
       "      <td>1.178000e+03</td>\n",
       "    </tr>\n",
       "    <tr>\n",
       "      <th>fb_campaign_id</th>\n",
       "      <td>1143.0</td>\n",
       "      <td>133783.989501</td>\n",
       "      <td>20500.308622</td>\n",
       "      <td>103916.0</td>\n",
       "      <td>115716.00</td>\n",
       "      <td>144549.00</td>\n",
       "      <td>144657.500</td>\n",
       "      <td>1.799820e+05</td>\n",
       "    </tr>\n",
       "    <tr>\n",
       "      <th>interest</th>\n",
       "      <td>1143.0</td>\n",
       "      <td>32.766404</td>\n",
       "      <td>26.952131</td>\n",
       "      <td>2.0</td>\n",
       "      <td>16.00</td>\n",
       "      <td>25.00</td>\n",
       "      <td>31.000</td>\n",
       "      <td>1.140000e+02</td>\n",
       "    </tr>\n",
       "    <tr>\n",
       "      <th>Impressions</th>\n",
       "      <td>1143.0</td>\n",
       "      <td>186732.132983</td>\n",
       "      <td>312762.183208</td>\n",
       "      <td>87.0</td>\n",
       "      <td>6503.50</td>\n",
       "      <td>51509.00</td>\n",
       "      <td>221769.000</td>\n",
       "      <td>3.052003e+06</td>\n",
       "    </tr>\n",
       "    <tr>\n",
       "      <th>Clicks</th>\n",
       "      <td>1143.0</td>\n",
       "      <td>33.390201</td>\n",
       "      <td>56.892438</td>\n",
       "      <td>0.0</td>\n",
       "      <td>1.00</td>\n",
       "      <td>8.00</td>\n",
       "      <td>37.500</td>\n",
       "      <td>4.210000e+02</td>\n",
       "    </tr>\n",
       "    <tr>\n",
       "      <th>Spent</th>\n",
       "      <td>1143.0</td>\n",
       "      <td>51.360656</td>\n",
       "      <td>86.908418</td>\n",
       "      <td>0.0</td>\n",
       "      <td>1.48</td>\n",
       "      <td>12.37</td>\n",
       "      <td>60.025</td>\n",
       "      <td>6.399500e+02</td>\n",
       "    </tr>\n",
       "    <tr>\n",
       "      <th>Total_Conversion</th>\n",
       "      <td>1143.0</td>\n",
       "      <td>2.855643</td>\n",
       "      <td>4.483593</td>\n",
       "      <td>0.0</td>\n",
       "      <td>1.00</td>\n",
       "      <td>1.00</td>\n",
       "      <td>3.000</td>\n",
       "      <td>6.000000e+01</td>\n",
       "    </tr>\n",
       "    <tr>\n",
       "      <th>Approved_Conversion</th>\n",
       "      <td>1143.0</td>\n",
       "      <td>0.944007</td>\n",
       "      <td>1.737708</td>\n",
       "      <td>0.0</td>\n",
       "      <td>0.00</td>\n",
       "      <td>1.00</td>\n",
       "      <td>1.000</td>\n",
       "      <td>2.100000e+01</td>\n",
       "    </tr>\n",
       "  </tbody>\n",
       "</table>\n",
       "</div>"
      ],
      "text/plain": [
       "                      count           mean            std       min  \\\n",
       "ad_id                1143.0  987261.130359  193992.814738  708746.0   \n",
       "xyz_campaign_id      1143.0    1067.382327     121.629393     916.0   \n",
       "fb_campaign_id       1143.0  133783.989501   20500.308622  103916.0   \n",
       "interest             1143.0      32.766404      26.952131       2.0   \n",
       "Impressions          1143.0  186732.132983  312762.183208      87.0   \n",
       "Clicks               1143.0      33.390201      56.892438       0.0   \n",
       "Spent                1143.0      51.360656      86.908418       0.0   \n",
       "Total_Conversion     1143.0       2.855643       4.483593       0.0   \n",
       "Approved_Conversion  1143.0       0.944007       1.737708       0.0   \n",
       "\n",
       "                           25%         50%          75%           max  \n",
       "ad_id                777632.50  1121185.00  1121804.500  1.314415e+06  \n",
       "xyz_campaign_id         936.00     1178.00     1178.000  1.178000e+03  \n",
       "fb_campaign_id       115716.00   144549.00   144657.500  1.799820e+05  \n",
       "interest                 16.00       25.00       31.000  1.140000e+02  \n",
       "Impressions            6503.50    51509.00   221769.000  3.052003e+06  \n",
       "Clicks                    1.00        8.00       37.500  4.210000e+02  \n",
       "Spent                     1.48       12.37       60.025  6.399500e+02  \n",
       "Total_Conversion          1.00        1.00        3.000  6.000000e+01  \n",
       "Approved_Conversion       0.00        1.00        1.000  2.100000e+01  "
      ]
     },
     "execution_count": 9,
     "metadata": {},
     "output_type": "execute_result"
    }
   ],
   "source": [
    "df.describe().T"
   ]
  },
  {
   "cell_type": "markdown",
   "id": "b86046c6",
   "metadata": {},
   "source": [
    "<br>\n",
    "\n",
    "Take a look at 'xyz_campaign_id' as this is the assoiated id for each as campaign used."
   ]
  },
  {
   "cell_type": "code",
   "execution_count": 10,
   "id": "c7467241",
   "metadata": {},
   "outputs": [
    {
     "data": {
      "text/plain": [
       "1178    625\n",
       "936     464\n",
       "916      54\n",
       "Name: xyz_campaign_id, dtype: int64"
      ]
     },
     "execution_count": 10,
     "metadata": {},
     "output_type": "execute_result"
    }
   ],
   "source": [
    "df.xyz_campaign_id.value_counts()"
   ]
  },
  {
   "cell_type": "code",
   "execution_count": 11,
   "id": "de21f136",
   "metadata": {},
   "outputs": [],
   "source": [
    "df['xyz_campaign_id'] = df['xyz_campaign_id'].astype(str)\n",
    "\n",
    "df['xyz_campaign_id'].replace(\n",
    "    {\n",
    "      '1178': 'Campaign_c',\n",
    "      '936': 'Campaign_b',\n",
    "      '916': 'Campaign_a',\n",
    "    }, \n",
    "    inplace=True\n",
    ")"
   ]
  },
  {
   "cell_type": "markdown",
   "id": "ebc2f816",
   "metadata": {},
   "source": [
    "<br>\n",
    "\n",
    "Let's double check the values in xyz_campaign_id if they're successfully replaced:"
   ]
  },
  {
   "cell_type": "code",
   "execution_count": 12,
   "id": "3d53e413",
   "metadata": {},
   "outputs": [
    {
     "data": {
      "text/plain": [
       "Campaign_c    625\n",
       "Campaign_b    464\n",
       "Campaign_a     54\n",
       "Name: xyz_campaign_id, dtype: int64"
      ]
     },
     "execution_count": 12,
     "metadata": {},
     "output_type": "execute_result"
    }
   ],
   "source": [
    "df['xyz_campaign_id'].value_counts()"
   ]
  }
 ],
 "metadata": {
  "celltoolbar": "Raw Cell Format",
  "kernelspec": {
   "display_name": "Python 3 (ipykernel)",
   "language": "python",
   "name": "python3"
  },
  "language_info": {
   "codemirror_mode": {
    "name": "ipython",
    "version": 3
   },
   "file_extension": ".py",
   "mimetype": "text/x-python",
   "name": "python",
   "nbconvert_exporter": "python",
   "pygments_lexer": "ipython3",
   "version": "3.9.13"
  }
 },
 "nbformat": 4,
 "nbformat_minor": 5
}
